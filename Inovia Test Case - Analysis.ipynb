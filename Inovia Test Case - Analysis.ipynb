{
 "cells": [
  {
   "cell_type": "markdown",
   "metadata": {},
   "source": [
    "# Report\n",
    "\n",
    "I tried to find anomaly in the  logs, to see wich logs are quite different than others. Here is the steps I followed:\n",
    "\n",
    "1.  First I did some visualizatiuon of data. This step was necessary for me in order to know what kind of data I am dealing with, what are the values in each features, how is the dsitribution of data,.....\n",
    "2. Next I did feature engineering by mapping or extracing useful piece of data from each field. This includes for example extraing hour,minute, dat from data time, extracing REST operation from REST urls.\n",
    "3. Next I mapped the categorical features into dummy binary variables.\n",
    "4. Then I applied K-Means clustering algorithm, I initially started with 10 centroilds, plotted the scores of each round of clutsering and I found out based on elbow heuristics that 4 is the best cluster size.\n",
    "5. Finally, I measured distance of each row of the log against those centroids and marked those falling far  distance from cluster as \"anomalies\". They are marked by \"1\" in \"anomaly\" column in log data.\n",
    "\n",
    "\n",
    "There are two notbeook fiels attahced. They both share some similar piece of code:\n",
    "\n",
    "* The Analysis : includes some visualization of data shows hoo I enbded up with feature engineering, clustering number, etc.\n",
    "\n",
    "* The Final Model, which only includes the required piece of code for clustering. You just need to run this if you just want the final result (kept in 'anomaly' column)"
   ]
  },
  {
   "cell_type": "code",
   "execution_count": 112,
   "metadata": {},
   "outputs": [],
   "source": [
    "import numpy as np \n",
    "import pandas as pd \n",
    "import matplotlib.pyplot as plt\n",
    "%matplotlib inline\n",
    "\n",
    "from scipy.stats import norm\n",
    "from sklearn.preprocessing import StandardScaler\n",
    "from scipy import stats\n",
    "import warnings\n",
    "import seaborn as sns\n",
    "\n",
    "from sklearn import preprocessing\n",
    "from sklearn.decomposition import PCA\n",
    "from sklearn.cluster import KMeans\n",
    "from scipy.stats import skew\n",
    "from subprocess import check_output\n"
   ]
  },
  {
   "cell_type": "code",
   "execution_count": 113,
   "metadata": {},
   "outputs": [
    {
     "name": "stdout",
     "output_type": "stream",
     "text": [
      "(2529245, 14)\n"
     ]
    }
   ],
   "source": [
    "colNames = ['ip','dp1','dp2','date','time','numeric1','rest','rc','numeric2','dp3','client','in','out','us']\n",
    "# Load data.\n",
    "train = pd.read_csv('access_logs_201612.txt', delim_whitespace=True, header=None, names=colNames, parse_dates=[3,4])\n",
    "\n",
    "print(train.shape)"
   ]
  },
  {
   "cell_type": "code",
   "execution_count": 114,
   "metadata": {},
   "outputs": [
    {
     "data": {
      "text/html": [
       "<div>\n",
       "<table border=\"1\" class=\"dataframe\">\n",
       "  <thead>\n",
       "    <tr style=\"text-align: right;\">\n",
       "      <th></th>\n",
       "      <th>ip</th>\n",
       "      <th>dp1</th>\n",
       "      <th>dp2</th>\n",
       "      <th>date</th>\n",
       "      <th>time</th>\n",
       "      <th>numeric1</th>\n",
       "      <th>rest</th>\n",
       "      <th>rc</th>\n",
       "      <th>numeric2</th>\n",
       "      <th>dp3</th>\n",
       "      <th>client</th>\n",
       "      <th>in</th>\n",
       "      <th>out</th>\n",
       "      <th>us</th>\n",
       "    </tr>\n",
       "  </thead>\n",
       "  <tbody>\n",
       "    <tr>\n",
       "      <th>0</th>\n",
       "      <td>147.214.18.128</td>\n",
       "      <td>-</td>\n",
       "      <td>-</td>\n",
       "      <td>2016-11-27</td>\n",
       "      <td>2018-03-18 03:16:03</td>\n",
       "      <td>100</td>\n",
       "      <td>GET /rawdata-dispatcher/progress/count?executi...</td>\n",
       "      <td>rc:200</td>\n",
       "      <td>22</td>\n",
       "      <td>-</td>\n",
       "      <td>Apache-HttpClient/4.3.3 (java 1.5)</td>\n",
       "      <td>in:244</td>\n",
       "      <td>out:223</td>\n",
       "      <td>us:2545</td>\n",
       "    </tr>\n",
       "    <tr>\n",
       "      <th>1</th>\n",
       "      <td>147.214.18.128</td>\n",
       "      <td>-</td>\n",
       "      <td>-</td>\n",
       "      <td>2016-11-27</td>\n",
       "      <td>2018-03-18 03:16:05</td>\n",
       "      <td>100</td>\n",
       "      <td>GET /rawdata-dispatcher/progress/count?executi...</td>\n",
       "      <td>rc:200</td>\n",
       "      <td>21</td>\n",
       "      <td>-</td>\n",
       "      <td>Apache-HttpClient/4.3.3 (java 1.5)</td>\n",
       "      <td>in:244</td>\n",
       "      <td>out:222</td>\n",
       "      <td>us:2187</td>\n",
       "    </tr>\n",
       "    <tr>\n",
       "      <th>2</th>\n",
       "      <td>localhost</td>\n",
       "      <td>-</td>\n",
       "      <td>-</td>\n",
       "      <td>2016-11-27</td>\n",
       "      <td>2018-03-18 03:16:07</td>\n",
       "      <td>100</td>\n",
       "      <td>GET /server-status?auto HTTP/1.1</td>\n",
       "      <td>rc:200</td>\n",
       "      <td>387</td>\n",
       "      <td>-</td>\n",
       "      <td>collectd/5.5.1</td>\n",
       "      <td>in:94</td>\n",
       "      <td>out:585</td>\n",
       "      <td>us:475</td>\n",
       "    </tr>\n",
       "    <tr>\n",
       "      <th>3</th>\n",
       "      <td>147.214.18.128</td>\n",
       "      <td>-</td>\n",
       "      <td>-</td>\n",
       "      <td>2016-11-27</td>\n",
       "      <td>2018-03-18 03:16:08</td>\n",
       "      <td>100</td>\n",
       "      <td>GET /rawdata-dispatcher/progress/count?executi...</td>\n",
       "      <td>rc:200</td>\n",
       "      <td>22</td>\n",
       "      <td>-</td>\n",
       "      <td>Apache-HttpClient/4.3.3 (java 1.5)</td>\n",
       "      <td>in:244</td>\n",
       "      <td>out:223</td>\n",
       "      <td>us:1835</td>\n",
       "    </tr>\n",
       "  </tbody>\n",
       "</table>\n",
       "</div>"
      ],
      "text/plain": [
       "               ip dp1 dp2       date                time  numeric1  \\\n",
       "0  147.214.18.128   -   - 2016-11-27 2018-03-18 03:16:03       100   \n",
       "1  147.214.18.128   -   - 2016-11-27 2018-03-18 03:16:05       100   \n",
       "2       localhost   -   - 2016-11-27 2018-03-18 03:16:07       100   \n",
       "3  147.214.18.128   -   - 2016-11-27 2018-03-18 03:16:08       100   \n",
       "\n",
       "                                                rest      rc  numeric2 dp3  \\\n",
       "0  GET /rawdata-dispatcher/progress/count?executi...  rc:200        22   -   \n",
       "1  GET /rawdata-dispatcher/progress/count?executi...  rc:200        21   -   \n",
       "2                   GET /server-status?auto HTTP/1.1  rc:200       387   -   \n",
       "3  GET /rawdata-dispatcher/progress/count?executi...  rc:200        22   -   \n",
       "\n",
       "                               client      in      out       us  \n",
       "0  Apache-HttpClient/4.3.3 (java 1.5)  in:244  out:223  us:2545  \n",
       "1  Apache-HttpClient/4.3.3 (java 1.5)  in:244  out:222  us:2187  \n",
       "2                      collectd/5.5.1   in:94  out:585   us:475  \n",
       "3  Apache-HttpClient/4.3.3 (java 1.5)  in:244  out:223  us:1835  "
      ]
     },
     "execution_count": 114,
     "metadata": {},
     "output_type": "execute_result"
    }
   ],
   "source": [
    "train.head(4)"
   ]
  },
  {
   "cell_type": "code",
   "execution_count": 3,
   "metadata": {},
   "outputs": [],
   "source": [
    "train = train.drop(['dp1','dp2','dp3'], axis =1)"
   ]
  },
  {
   "cell_type": "markdown",
   "metadata": {},
   "source": [
    "## Exploratory Data Analysis\n",
    "\n",
    "The first thing that is usually doen are as fillows:\n",
    "1. Explore distrubution of Target Varibale\n",
    "2. Explore correlation between Target variable and other features\n",
    "3. Look at missing and outliers\n",
    "    3.1 Explore the missing values\n",
    "    3.2 Explore outliers\n",
    "    3.3 Impute missing values or drop columns with lot of missing data \n",
    "        3.3.1 For numerical datasets, impute missing values with median\n",
    "        3.3.2 For categorical dataset impute missing values with the most frequent values\n",
    "    3.4 Remove outliers\n",
    "4. If necessary transform features with skewed distributions into respective log format\n",
    "5. Normalize all columns into standard Z distribution (mean=0, sd=[-1,1])"
   ]
  },
  {
   "cell_type": "code",
   "execution_count": 6,
   "metadata": {},
   "outputs": [
    {
     "data": {
      "text/html": [
       "<div>\n",
       "<table border=\"1\" class=\"dataframe\">\n",
       "  <thead>\n",
       "    <tr style=\"text-align: right;\">\n",
       "      <th></th>\n",
       "      <th>ip</th>\n",
       "      <th>rest</th>\n",
       "      <th>rc</th>\n",
       "      <th>client</th>\n",
       "      <th>in</th>\n",
       "      <th>out</th>\n",
       "      <th>us</th>\n",
       "    </tr>\n",
       "  </thead>\n",
       "  <tbody>\n",
       "    <tr>\n",
       "      <th>count</th>\n",
       "      <td>2529245</td>\n",
       "      <td>2529245</td>\n",
       "      <td>2529245</td>\n",
       "      <td>2529245</td>\n",
       "      <td>2529245</td>\n",
       "      <td>2529245</td>\n",
       "      <td>2529245</td>\n",
       "    </tr>\n",
       "    <tr>\n",
       "      <th>unique</th>\n",
       "      <td>42</td>\n",
       "      <td>34185</td>\n",
       "      <td>11</td>\n",
       "      <td>30</td>\n",
       "      <td>745036</td>\n",
       "      <td>12741</td>\n",
       "      <td>274309</td>\n",
       "    </tr>\n",
       "    <tr>\n",
       "      <th>top</th>\n",
       "      <td>147.214.18.128</td>\n",
       "      <td>POST /rawdata-dispatcher/data/create/payload H...</td>\n",
       "      <td>rc:200</td>\n",
       "      <td>Apache-HttpClient/4.3.3 (java 1.5)</td>\n",
       "      <td>in:244</td>\n",
       "      <td>out:162</td>\n",
       "      <td>us:256</td>\n",
       "    </tr>\n",
       "    <tr>\n",
       "      <th>freq</th>\n",
       "      <td>2093165</td>\n",
       "      <td>1543662</td>\n",
       "      <td>2457123</td>\n",
       "      <td>2076762</td>\n",
       "      <td>496310</td>\n",
       "      <td>1557946</td>\n",
       "      <td>1855</td>\n",
       "    </tr>\n",
       "  </tbody>\n",
       "</table>\n",
       "</div>"
      ],
      "text/plain": [
       "                    ip                                               rest  \\\n",
       "count          2529245                                            2529245   \n",
       "unique              42                                              34185   \n",
       "top     147.214.18.128  POST /rawdata-dispatcher/data/create/payload H...   \n",
       "freq           2093165                                            1543662   \n",
       "\n",
       "             rc                              client       in      out       us  \n",
       "count   2529245                             2529245  2529245  2529245  2529245  \n",
       "unique       11                                  30   745036    12741   274309  \n",
       "top      rc:200  Apache-HttpClient/4.3.3 (java 1.5)   in:244  out:162   us:256  \n",
       "freq    2457123                             2076762   496310  1557946     1855  "
      ]
     },
     "execution_count": 6,
     "metadata": {},
     "output_type": "execute_result"
    }
   ],
   "source": [
    "train.describe(include=[np.object])"
   ]
  },
  {
   "cell_type": "markdown",
   "metadata": {},
   "source": [
    "Some insights:\n",
    "1. There are only 42 unique IP addresses, \n",
    "2. The number of unique REST oeprations is 34185 , which accounts for only 1% of data\n",
    "3. Only 11 unique RCs\n",
    "4. The number of unique clients is 30\n",
    "5. Columns in,out and us can be converted into numeric one by dropping the predix"
   ]
  },
  {
   "cell_type": "code",
   "execution_count": 8,
   "metadata": {},
   "outputs": [
    {
     "data": {
      "text/html": [
       "<div>\n",
       "<table border=\"1\" class=\"dataframe\">\n",
       "  <thead>\n",
       "    <tr style=\"text-align: right;\">\n",
       "      <th></th>\n",
       "      <th>date</th>\n",
       "      <th>time</th>\n",
       "    </tr>\n",
       "  </thead>\n",
       "  <tbody>\n",
       "    <tr>\n",
       "      <th>count</th>\n",
       "      <td>2529245</td>\n",
       "      <td>2529245</td>\n",
       "    </tr>\n",
       "    <tr>\n",
       "      <th>unique</th>\n",
       "      <td>17</td>\n",
       "      <td>86400</td>\n",
       "    </tr>\n",
       "    <tr>\n",
       "      <th>top</th>\n",
       "      <td>2016-12-09 00:00:00</td>\n",
       "      <td>2018-03-17 09:12:02</td>\n",
       "    </tr>\n",
       "    <tr>\n",
       "      <th>freq</th>\n",
       "      <td>298444</td>\n",
       "      <td>197</td>\n",
       "    </tr>\n",
       "    <tr>\n",
       "      <th>first</th>\n",
       "      <td>2016-11-27 00:00:00</td>\n",
       "      <td>2018-03-17 00:00:00</td>\n",
       "    </tr>\n",
       "    <tr>\n",
       "      <th>last</th>\n",
       "      <td>2016-12-13 00:00:00</td>\n",
       "      <td>2018-03-17 23:59:59</td>\n",
       "    </tr>\n",
       "  </tbody>\n",
       "</table>\n",
       "</div>"
      ],
      "text/plain": [
       "                       date                 time\n",
       "count               2529245              2529245\n",
       "unique                   17                86400\n",
       "top     2016-12-09 00:00:00  2018-03-17 09:12:02\n",
       "freq                 298444                  197\n",
       "first   2016-11-27 00:00:00  2018-03-17 00:00:00\n",
       "last    2016-12-13 00:00:00  2018-03-17 23:59:59"
      ]
     },
     "execution_count": 8,
     "metadata": {},
     "output_type": "execute_result"
    }
   ],
   "source": [
    "train[['date','time']].describe()"
   ]
  },
  {
   "cell_type": "code",
   "execution_count": 4,
   "metadata": {},
   "outputs": [],
   "source": [
    "train['in']= train['in'].apply(lambda x : int(x.split(\":\")[1]))\n",
    "train['out']= train['out'].apply(lambda x : int(x.split(\":\")[1]))\n",
    "train['us']= train['us'].apply(lambda x : int(x.split(\":\")[1]))"
   ]
  },
  {
   "cell_type": "code",
   "execution_count": 7,
   "metadata": {},
   "outputs": [
    {
     "data": {
      "text/html": [
       "<div>\n",
       "<table border=\"1\" class=\"dataframe\">\n",
       "  <thead>\n",
       "    <tr style=\"text-align: right;\">\n",
       "      <th></th>\n",
       "      <th>numeric1</th>\n",
       "      <th>numeric2</th>\n",
       "      <th>in</th>\n",
       "      <th>out</th>\n",
       "      <th>us</th>\n",
       "    </tr>\n",
       "  </thead>\n",
       "  <tbody>\n",
       "    <tr>\n",
       "      <th>count</th>\n",
       "      <td>2529245.0</td>\n",
       "      <td>2.529245e+06</td>\n",
       "      <td>2.529245e+06</td>\n",
       "      <td>2.529245e+06</td>\n",
       "      <td>2.529245e+06</td>\n",
       "    </tr>\n",
       "    <tr>\n",
       "      <th>mean</th>\n",
       "      <td>100.0</td>\n",
       "      <td>3.222325e+04</td>\n",
       "      <td>6.151072e+05</td>\n",
       "      <td>3.242875e+04</td>\n",
       "      <td>7.254695e+04</td>\n",
       "    </tr>\n",
       "    <tr>\n",
       "      <th>std</th>\n",
       "      <td>0.0</td>\n",
       "      <td>4.457347e+05</td>\n",
       "      <td>2.157920e+06</td>\n",
       "      <td>4.457416e+05</td>\n",
       "      <td>8.487997e+05</td>\n",
       "    </tr>\n",
       "    <tr>\n",
       "      <th>min</th>\n",
       "      <td>100.0</td>\n",
       "      <td>0.000000e+00</td>\n",
       "      <td>8.200000e+01</td>\n",
       "      <td>1.370000e+02</td>\n",
       "      <td>6.800000e+01</td>\n",
       "    </tr>\n",
       "    <tr>\n",
       "      <th>25%</th>\n",
       "      <td>100.0</td>\n",
       "      <td>0.000000e+00</td>\n",
       "      <td>2.440000e+02</td>\n",
       "      <td>1.620000e+02</td>\n",
       "      <td>1.694000e+03</td>\n",
       "    </tr>\n",
       "    <tr>\n",
       "      <th>50%</th>\n",
       "      <td>100.0</td>\n",
       "      <td>0.000000e+00</td>\n",
       "      <td>9.866900e+04</td>\n",
       "      <td>1.620000e+02</td>\n",
       "      <td>2.123300e+04</td>\n",
       "    </tr>\n",
       "    <tr>\n",
       "      <th>75%</th>\n",
       "      <td>100.0</td>\n",
       "      <td>2.100000e+01</td>\n",
       "      <td>4.784780e+05</td>\n",
       "      <td>2.220000e+02</td>\n",
       "      <td>6.224800e+04</td>\n",
       "    </tr>\n",
       "    <tr>\n",
       "      <th>max</th>\n",
       "      <td>100.0</td>\n",
       "      <td>6.529616e+06</td>\n",
       "      <td>6.106426e+07</td>\n",
       "      <td>6.529896e+06</td>\n",
       "      <td>9.271657e+08</td>\n",
       "    </tr>\n",
       "  </tbody>\n",
       "</table>\n",
       "</div>"
      ],
      "text/plain": [
       "        numeric1      numeric2            in           out            us\n",
       "count  2529245.0  2.529245e+06  2.529245e+06  2.529245e+06  2.529245e+06\n",
       "mean       100.0  3.222325e+04  6.151072e+05  3.242875e+04  7.254695e+04\n",
       "std          0.0  4.457347e+05  2.157920e+06  4.457416e+05  8.487997e+05\n",
       "min        100.0  0.000000e+00  8.200000e+01  1.370000e+02  6.800000e+01\n",
       "25%        100.0  0.000000e+00  2.440000e+02  1.620000e+02  1.694000e+03\n",
       "50%        100.0  0.000000e+00  9.866900e+04  1.620000e+02  2.123300e+04\n",
       "75%        100.0  2.100000e+01  4.784780e+05  2.220000e+02  6.224800e+04\n",
       "max        100.0  6.529616e+06  6.106426e+07  6.529896e+06  9.271657e+08"
      ]
     },
     "execution_count": 7,
     "metadata": {},
     "output_type": "execute_result"
    }
   ],
   "source": [
    "train.describe()"
   ]
  },
  {
   "cell_type": "markdown",
   "metadata": {},
   "source": [
    "### Visualization"
   ]
  },
  {
   "cell_type": "markdown",
   "metadata": {},
   "source": [
    "#### Single Feature visualization"
   ]
  },
  {
   "cell_type": "code",
   "execution_count": 22,
   "metadata": {},
   "outputs": [
    {
     "data": {
      "text/plain": [
       "array([<matplotlib.axes._subplots.AxesSubplot object at 0x7f5b1ea86978>], dtype=object)"
      ]
     },
     "execution_count": 22,
     "metadata": {},
     "output_type": "execute_result"
    },
    {
     "data": {
      "image/png": "[encoded data removed]",
      "text/plain": [
       "<matplotlib.figure.Figure at 0x7f5b1ea1c710>"
      ]
     },
     "metadata": {},
     "output_type": "display_data"
    }
   ],
   "source": [
    "train[['ip']].apply(pd.value_counts).plot(kind='bar', subplots=True, figsize=(17,5), logy=True)"
   ]
  },
  {
   "cell_type": "markdown",
   "metadata": {},
   "source": [
    "* We have (-1) as IP address which is probably noise\n",
    "\n",
    "We can see Four groups of IP addresses\n",
    "* IPs starting with 147.214\n",
    "* IP starting 137.58, 134.138\n",
    "* Local ip adrresses: localhost and 10.10\n",
    "* Carried dedictaed IPs: 100.X\n",
    "\n",
    "If we map these IP addresses to these four groups, then we can see distribution"
   ]
  },
  {
   "cell_type": "code",
   "execution_count": 24,
   "metadata": {},
   "outputs": [
    {
     "data": {
      "text/plain": [
       "array([<matplotlib.axes._subplots.AxesSubplot object at 0x7f5b1e44a978>], dtype=object)"
      ]
     },
     "execution_count": 24,
     "metadata": {},
     "output_type": "execute_result"
    },
    {
     "data": {
      "image/png": "[encoded data removed]",
      "text/plain": [
       "<matplotlib.figure.Figure at 0x7f5b1dae5358>"
      ]
     },
     "metadata": {},
     "output_type": "display_data"
    }
   ],
   "source": [
    "train[['rc']].apply(pd.value_counts).plot(kind='bar', subplots=True, figsize=(10,5), logy=True)"
   ]
  },
  {
   "cell_type": "markdown",
   "metadata": {},
   "source": [
    "* RC seems to be HTTP response code, 200:OK, 404: not found,...etc. This feature should be treated as categorical\n",
    "\n",
    "However, if me measure the number of requests per IP adress, per time unit then we might find some anomalies\n",
    "\n"
   ]
  },
  {
   "cell_type": "code",
   "execution_count": 10,
   "metadata": {},
   "outputs": [
    {
     "data": {
      "text/plain": [
       "array([<matplotlib.axes._subplots.AxesSubplot object at 0x7f745765a4a8>], dtype=object)"
      ]
     },
     "execution_count": 10,
     "metadata": {},
     "output_type": "execute_result"
    },
    {
     "data": {
      "image/png": "[encoded data removed]",
      "text/plain": [
       "<matplotlib.figure.Figure at 0x7f7436b50080>"
      ]
     },
     "metadata": {},
     "output_type": "display_data"
    },
    {
     "data": {
      "image/png": "[encoded data removed]",
      "text/plain": [
       "<matplotlib.figure.Figure at 0x7f745267ed30>"
      ]
     },
     "metadata": {},
     "output_type": "display_data"
    },
    {
     "data": {
      "image/png": "[encoded data removed]",
      "text/plain": [
       "<matplotlib.figure.Figure at 0x7f745247b4e0>"
      ]
     },
     "metadata": {},
     "output_type": "display_data"
    }
   ],
   "source": [
    "train[['in']].plot(kind='hist', subplots=True, figsize=(6,3), logy=True)\n",
    "train[['out']].plot(kind='hist', subplots=True, figsize=(6,3), logy=True)\n",
    "train[['us']].plot(kind='hist', subplots=True, figsize=(6,3), logy=True)"
   ]
  },
  {
   "cell_type": "code",
   "execution_count": 58,
   "metadata": {},
   "outputs": [
    {
     "data": {
      "image/png": "[encoded data removed]",
      "text/plain": [
       "<matplotlib.figure.Figure at 0x7f745f2b19e8>"
      ]
     },
     "metadata": {},
     "output_type": "display_data"
    }
   ],
   "source": [
    "target = train['in'] \n",
    "target_log = np.log(target)\n",
    "target_log = target_log.apply (lambda x : 0 if x == - np.inf else x)\n",
    "plt.subplots(figsize=(15, 8))\n",
    "plt.subplot(3,1,1)\n",
    "sns.distplot(target_log, bins=50)\n",
    "plt.title(' IN')\n",
    "plt.xlabel('Ln(in)')\n",
    "\n",
    "target = train['out'] \n",
    "target_log = np.log(target)\n",
    "target_log = target_log.apply (lambda x : 0 if x == - np.inf else x)\n",
    "plt.subplot(3,1,2)\n",
    "sns.distplot(target_log, bins=50)\n",
    "plt.title('OUT')\n",
    "plt.xlabel('Ln(out)')\n",
    "\n",
    "target = train['us'] \n",
    "target_log = np.log(target)\n",
    "target_log = target_log.apply (lambda x : 0 if x == - np.inf else x)\n",
    "plt.subplot(3,1,3)\n",
    "sns.distplot(target_log, bins=50)\n",
    "plt.title('US')\n",
    "plt.xlabel( 'Ln(us)')\n",
    "plt.tight_layout()"
   ]
  },
  {
   "cell_type": "markdown",
   "metadata": {},
   "source": [
    "* It seems that in,out and us features quited clustered around certian distributions, wich could show some hints for anomaly detection\n"
   ]
  },
  {
   "cell_type": "code",
   "execution_count": 62,
   "metadata": {},
   "outputs": [
    {
     "data": {
      "image/png": "[encoded data removed]",
      "text/plain": [
       "<matplotlib.figure.Figure at 0x7f745f1e06a0>"
      ]
     },
     "metadata": {},
     "output_type": "display_data"
    }
   ],
   "source": [
    "#plt.subplots(figsize=(15, 8))\n",
    "plt.subplot(2,1,1)\n",
    "sns.distplot(train['numeric1'] , bins=50)\n",
    "plt.title(' numeric1')\n",
    "plt.xlabel('numeric1')\n",
    "\n",
    "target = train['numeric2'] \n",
    "target_log = np.log(target)\n",
    "target_log = target_log.apply (lambda x : 0 if x == - np.inf else x)\n",
    "plt.subplot(2,1,2)\n",
    "sns.distplot(target_log, bins=50)\n",
    "plt.title('numeric1')\n",
    "plt.xlabel('Ln(numeric2)')\n",
    "\n",
    "plt.tight_layout()"
   ]
  },
  {
   "cell_type": "markdown",
   "metadata": {},
   "source": [
    "Apparently there are some outliers in the dataset, which can be seen in the followings as well:"
   ]
  },
  {
   "cell_type": "code",
   "execution_count": 37,
   "metadata": {},
   "outputs": [
    {
     "data": {
      "text/html": [
       "<div>\n",
       "<table border=\"1\" class=\"dataframe\">\n",
       "  <thead>\n",
       "    <tr style=\"text-align: right;\">\n",
       "      <th></th>\n",
       "      <th>numeric1</th>\n",
       "      <th>numeric2</th>\n",
       "    </tr>\n",
       "  </thead>\n",
       "  <tbody>\n",
       "    <tr>\n",
       "      <th>count</th>\n",
       "      <td>2529245.0</td>\n",
       "      <td>2.529245e+06</td>\n",
       "    </tr>\n",
       "    <tr>\n",
       "      <th>mean</th>\n",
       "      <td>100.0</td>\n",
       "      <td>3.222325e+04</td>\n",
       "    </tr>\n",
       "    <tr>\n",
       "      <th>std</th>\n",
       "      <td>0.0</td>\n",
       "      <td>4.457347e+05</td>\n",
       "    </tr>\n",
       "    <tr>\n",
       "      <th>min</th>\n",
       "      <td>100.0</td>\n",
       "      <td>0.000000e+00</td>\n",
       "    </tr>\n",
       "    <tr>\n",
       "      <th>25%</th>\n",
       "      <td>100.0</td>\n",
       "      <td>0.000000e+00</td>\n",
       "    </tr>\n",
       "    <tr>\n",
       "      <th>50%</th>\n",
       "      <td>100.0</td>\n",
       "      <td>0.000000e+00</td>\n",
       "    </tr>\n",
       "    <tr>\n",
       "      <th>75%</th>\n",
       "      <td>100.0</td>\n",
       "      <td>2.100000e+01</td>\n",
       "    </tr>\n",
       "    <tr>\n",
       "      <th>max</th>\n",
       "      <td>100.0</td>\n",
       "      <td>6.529616e+06</td>\n",
       "    </tr>\n",
       "  </tbody>\n",
       "</table>\n",
       "</div>"
      ],
      "text/plain": [
       "        numeric1      numeric2\n",
       "count  2529245.0  2.529245e+06\n",
       "mean       100.0  3.222325e+04\n",
       "std          0.0  4.457347e+05\n",
       "min        100.0  0.000000e+00\n",
       "25%        100.0  0.000000e+00\n",
       "50%        100.0  0.000000e+00\n",
       "75%        100.0  2.100000e+01\n",
       "max        100.0  6.529616e+06"
      ]
     },
     "execution_count": 37,
     "metadata": {},
     "output_type": "execute_result"
    }
   ],
   "source": [
    "train[['numeric1','numeric2']].describe()"
   ]
  },
  {
   "cell_type": "code",
   "execution_count": 115,
   "metadata": {},
   "outputs": [],
   "source": [
    "def extractResourceOp(restserv):\n",
    "    arr = restserv.split(\" \")\n",
    "    op = arr[0]\n",
    "    url = arr[1]\n",
    "    protocol=arr[2]\n",
    "    resource=url.split(\"?\")[0]\n",
    "    return [op, resource,protocol]\n",
    "\n",
    "\n",
    "def extractOp(restserv):\n",
    "    arr = restserv.split(\" \")\n",
    "    op = arr[0]\n",
    "    return [op]\n",
    "\n",
    "train[['operation','resource','protocol']] = train.apply(lambda row:pd.Series(extractResourceOp(row['rest'])),\n",
    "                                                           axis=1)"
   ]
  },
  {
   "cell_type": "code",
   "execution_count": 116,
   "metadata": {},
   "outputs": [
    {
     "data": {
      "text/plain": [
       "array([<matplotlib.axes._subplots.AxesSubplot object at 0x7f8839c664a8>], dtype=object)"
      ]
     },
     "execution_count": 116,
     "metadata": {},
     "output_type": "execute_result"
    },
    {
     "data": {
      "image/png": "[encoded data removed]",
      "text/plain": [
       "<matplotlib.figure.Figure at 0x7f8839874dd8>"
      ]
     },
     "metadata": {},
     "output_type": "display_data"
    },
    {
     "data": {
      "image/png": "[encoded data removed]",
      "text/plain": [
       "<matplotlib.figure.Figure at 0x7f88397fb048>"
      ]
     },
     "metadata": {},
     "output_type": "display_data"
    },
    {
     "data": {
      "image/png": "[encoded data removed]",
      "text/plain": [
       "<matplotlib.figure.Figure at 0x7f8839874fd0>"
      ]
     },
     "metadata": {},
     "output_type": "display_data"
    }
   ],
   "source": [
    "train[['operation']].apply(pd.value_counts).plot(kind='bar', subplots=True, figsize=(17,4), logy=True)\n",
    "train[['resource']].apply(pd.value_counts).plot(kind='hist', subplots=True, figsize=(17,5), logy=True)\n",
    "train[['protocol']].apply(pd.value_counts).plot(kind='bar', subplots=True, figsize=(17,5), logy=True)"
   ]
  },
  {
   "cell_type": "markdown",
   "metadata": {},
   "source": [
    "## Feature Engineering"
   ]
  },
  {
   "cell_type": "markdown",
   "metadata": {},
   "source": [
    "#### 1- Extracing  year,month,day hour, minutes features"
   ]
  },
  {
   "cell_type": "code",
   "execution_count": 8,
   "metadata": {},
   "outputs": [],
   "source": [
    "def extractTimeFeatures(row):\n",
    "    hour = row.hour\n",
    "    minute = row.minute\n",
    "    return [hour,minute]\n",
    "train[['hour', 'minute']] = train.apply(lambda row:pd.Series(extractTimeFeatures(row['time'])),axis=1)"
   ]
  },
  {
   "cell_type": "code",
   "execution_count": 9,
   "metadata": {},
   "outputs": [],
   "source": [
    "def extractDateFeatures(row):   \n",
    "    day = row.dayofweek\n",
    "    return day\n",
    "train['day'] = train['date'].apply(lambda x : extractDateFeatures(x))"
   ]
  },
  {
   "cell_type": "markdown",
   "metadata": {},
   "source": [
    "#### 2- Categorizing IP address"
   ]
  },
  {
   "cell_type": "code",
   "execution_count": 10,
   "metadata": {},
   "outputs": [],
   "source": [
    "def extracFirstIpPart(x):\n",
    "    return x.split(\".\")[0]\n",
    "train['first_ip_part'] = train['ip'].apply (lambda x : extracFirstIpPart(x))"
   ]
  },
  {
   "cell_type": "code",
   "execution_count": 12,
   "metadata": {},
   "outputs": [
    {
     "data": {
      "text/plain": [
       "first_ip_part\n",
       "10             22435\n",
       "100              109\n",
       "134              630\n",
       "137           124254\n",
       "147          2239689\n",
       "150               15\n",
       "153               16\n",
       "::1              396\n",
       "localhost     141701\n",
       "Name: ip, dtype: int64"
      ]
     },
     "execution_count": 12,
     "metadata": {},
     "output_type": "execute_result"
    }
   ],
   "source": [
    "train.groupby(['first_ip_part'])['ip'].count()"
   ]
  },
  {
   "cell_type": "markdown",
   "metadata": {},
   "source": [
    "Lets map the above ip segments into dummay variables"
   ]
  },
  {
   "cell_type": "code",
   "execution_count": 13,
   "metadata": {},
   "outputs": [],
   "source": [
    "def mapIpToColumn(part):   \n",
    "    if (part.startswith(\"10\")):\n",
    "        return [0, 0, 0]\n",
    "    if (part.startswith(\"100\")):\n",
    "        return [0, 0, 1]\n",
    "    if (part.startswith(\"134\")):\n",
    "        return [0, 1, 0]    \n",
    "    if (part.startswith(\"137\")):\n",
    "        return [0, 1,  1]\n",
    "    if (part.startswith(\"147\")):\n",
    "        return [1 ,0, 0]\n",
    "    if (part.startswith(\"150\") | part.startswith(\"153\")):\n",
    "        return [1, 0, 1]\n",
    "    if (part.startswith(\"localhost\") ):\n",
    "        return [1, 1, 0]\n",
    "    return [1,1,1] \n",
    "    "
   ]
  },
  {
   "cell_type": "code",
   "execution_count": 14,
   "metadata": {},
   "outputs": [],
   "source": [
    "train[['ip_3', 'ip_2', 'ip_1']] = train.apply(lambda row:pd.Series(mapIpToColumn(row['first_ip_part'])),\n",
    "                                                           axis=1)"
   ]
  },
  {
   "cell_type": "markdown",
   "metadata": {},
   "source": [
    "#### 3-Operarion"
   ]
  },
  {
   "cell_type": "code",
   "execution_count": 16,
   "metadata": {},
   "outputs": [
    {
     "data": {
      "text/plain": [
       "operation\n",
       "DELETE           5\n",
       "GET         826154\n",
       "OPTIONS      52743\n",
       "POST       1650262\n",
       "PUT             81\n",
       "Name: operation, dtype: int64"
      ]
     },
     "execution_count": 16,
     "metadata": {},
     "output_type": "execute_result"
    }
   ],
   "source": [
    "train.groupby(['operation'])['operation'].count()"
   ]
  },
  {
   "cell_type": "code",
   "execution_count": 17,
   "metadata": {},
   "outputs": [],
   "source": [
    "def mapOperationToColumn(part):   \n",
    "    if (part.startswith(\"DELETE\")):\n",
    "        return [0, 0, 0]\n",
    "    if (part.startswith(\"GET\")):\n",
    "        return [0, 0, 1]\n",
    "    if (part.startswith(\"OPTIONS\")):\n",
    "        return [0, 1, 0]    \n",
    "    if (part.startswith(\"POST\")):\n",
    "        return [0, 1,  1]\n",
    "    if (part.startswith(\"PUT\")):\n",
    "        return [1 ,0, 0]   \n",
    "    return [1, 0, 1]   \n"
   ]
  },
  {
   "cell_type": "code",
   "execution_count": 18,
   "metadata": {},
   "outputs": [],
   "source": [
    "train[['op_3', 'op_2', 'op_1']] = train.apply(lambda row:pd.Series(mapOperationToColumn(row['operation'])),\n",
    "                                                           axis=1)"
   ]
  },
  {
   "cell_type": "markdown",
   "metadata": {},
   "source": [
    "## K-Means Clustering"
   ]
  },
  {
   "cell_type": "code",
   "execution_count": 98,
   "metadata": {},
   "outputs": [],
   "source": [
    "#Euclidean distance\n",
    "def measureDistance(data, model):\n",
    "    distance = pd.Series()\n",
    "    for i in range(0,len(data)):\n",
    "        Xa = np.array(data.loc[i])\n",
    "        Xb = model.cluster_centers_[model.labels_[i]-1]        \n",
    "        distance.set_value(i, np.linalg.norm(Xa-Xb))\n",
    "    return distance"
   ]
  },
  {
   "cell_type": "code",
   "execution_count": 97,
   "metadata": {},
   "outputs": [
    {
     "data": {
      "text/plain": [
       "5963"
      ]
     },
     "execution_count": 97,
     "metadata": {},
     "output_type": "execute_result"
    }
   ],
   "source": [
    "#import gc\n",
    "#gc.collect()"
   ]
  },
  {
   "cell_type": "code",
   "execution_count": 25,
   "metadata": {},
   "outputs": [],
   "source": [
    "from sklearn import preprocessing\n",
    "from sklearn.decomposition import PCA\n",
    "from sklearn.cluster import KMeans\n",
    "\n",
    "# We take only numeric feature and standardize them\n",
    "data = train.select_dtypes(include=[np.int64, np.float64])\n",
    "data = data.drop ([\"numeric1\"], axis=1)\n",
    "\n",
    "min_max_scaler = preprocessing.StandardScaler()\n",
    "np_scaled = min_max_scaler.fit_transform(data)\n",
    "data = pd.DataFrame(np_scaled)\n",
    "\n",
    "# we reduce to 2 importants features (for the sake of visualization)\n",
    "pca = PCA(n_components=2)\n",
    "data = pca.fit_transform(data)\n",
    "# And standardizing these 2 new features\n",
    "min_max_scaler = preprocessing.StandardScaler()\n",
    "np_scaled = min_max_scaler.fit_transform(data)\n",
    "data = pd.DataFrame(np_scaled)"
   ]
  },
  {
   "cell_type": "code",
   "execution_count": 26,
   "metadata": {},
   "outputs": [
    {
     "data": {
      "image/png": "[encoded data removed]",
      "text/plain": [
       "<matplotlib.figure.Figure at 0x7f88bdba7b38>"
      ]
     },
     "metadata": {},
     "output_type": "display_data"
    }
   ],
   "source": [
    "# Lets start with 20 centroids to see the loss plot (elbow method)\n",
    "n_cluster = range(1, 10)\n",
    "kmeans = [KMeans(n_clusters=i).fit(data) for i in n_cluster]\n",
    "scores = [kmeans[i].score(data) for i in range(len(kmeans))]\n",
    "fig, ax = plt.subplots()\n",
    "ax.plot(n_cluster, scores)\n",
    "\n",
    "plt.show()"
   ]
  },
  {
   "cell_type": "markdown",
   "metadata": {},
   "source": [
    "#### OK, it seems that we endup with 4 clusters"
   ]
  },
  {
   "cell_type": "code",
   "execution_count": 28,
   "metadata": {},
   "outputs": [
    {
     "data": {
      "text/plain": [
       "0    2227885\n",
       "3     164909\n",
       "2     124647\n",
       "1      11804\n",
       "Name: cluster, dtype: int64"
      ]
     },
     "execution_count": 28,
     "metadata": {},
     "output_type": "execute_result"
    }
   ],
   "source": [
    "train['cluster'] = kmeans[3].predict(data)\n",
    "train['principal_feature1'] = data[0]\n",
    "train['principal_feature2'] = data[1]\n",
    "train['cluster'].value_counts()"
   ]
  },
  {
   "cell_type": "code",
   "execution_count": 29,
   "metadata": {},
   "outputs": [
    {
     "data": {
      "image/png": "[encoded data removed]",
      "text/plain": [
       "<matplotlib.figure.Figure at 0x7f88bdab19e8>"
      ]
     },
     "metadata": {},
     "output_type": "display_data"
    }
   ],
   "source": [
    "#plot the different clusters with the 2 main features\n",
    "fig, ax = plt.subplots(figsize=(17,5))\n",
    "colors = {0:'red', 1:'blue', 2:'green', 3:'yellow'}\n",
    "ax.scatter(train['principal_feature1'], train['principal_feature2'], c=train[\"cluster\"].apply(lambda x: colors[x]))\n",
    "\n",
    "plt.show()"
   ]
  }
 ],
 "metadata": {
  "kernelspec": {
   "display_name": "Python 3",
   "language": "python",
   "name": "python3"
  },
  "language_info": {
   "codemirror_mode": {
    "name": "ipython",
    "version": 3
   },
   "file_extension": ".py",
   "mimetype": "text/x-python",
   "name": "python",
   "nbconvert_exporter": "python",
   "pygments_lexer": "ipython3",
   "version": "3.5.4"
  }
 },
 "nbformat": 4,
 "nbformat_minor": 1
}
