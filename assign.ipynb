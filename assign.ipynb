{
 "cells": [
  {
   "cell_type": "code",
   "execution_count": 1,
   "metadata": {},
   "outputs": [],
   "source": [
    "import findspark\n",
    "findspark.init()\n",
    "\n",
    "from pyspark.sql import SparkSession, Row\n",
    "from pyspark.sql import functions as F\n",
    "from pyspark.sql.window import Window as W\n",
    "\n",
    "from pyspark.ml.feature import Word2Vec, Tokenizer\n",
    "from pyspark.ml import Pipeline \n",
    "from pyspark.mllib.clustering import KMeans, KMeansModel\n",
    "from pyspark.ml.clustering import KMeans\n",
    "\n",
    "import matplotlib.pyplot as plt\n",
    "import numpy as np"
   ]
  },
  {
   "cell_type": "code",
   "execution_count": 2,
   "metadata": {},
   "outputs": [],
   "source": [
    "# create a SparkSession\n",
    "spark = SparkSession.builder.appName('access_logs').getOrCreate()"
   ]
  },
  {
   "cell_type": "code",
   "execution_count": 3,
   "metadata": {},
   "outputs": [
    {
     "data": {
      "text/plain": [
       "282695"
      ]
     },
     "execution_count": 3,
     "metadata": {},
     "output_type": "execute_result"
    }
   ],
   "source": [
    "# read log file in RDD\n",
    "file_path = 'sample_logs1.txt'   # access_logs_201612.txt\n",
    "raw_logs = spark.sparkContext.textFile(file_path)\n",
    "raw_logs.count()"
   ]
  },
  {
   "cell_type": "code",
   "execution_count": 4,
   "metadata": {},
   "outputs": [
    {
     "name": "stdout",
     "output_type": "stream",
     "text": [
      "root\n",
      " |-- raw: string (nullable = true)\n",
      " |-- idx: long (nullable = false)\n",
      "\n",
      "+--------------------+---+\n",
      "|                 raw|idx|\n",
      "+--------------------+---+\n",
      "|147.214.18.128 - ...|  0|\n",
      "|147.214.18.128 - ...|  1|\n",
      "|localhost - - 201...|  2|\n",
      "+--------------------+---+\n",
      "only showing top 3 rows\n",
      "\n"
     ]
    }
   ],
   "source": [
    "# create data frame\n",
    "parsed_logs = raw_logs.map(lambda x: Row(raw = x))\n",
    "df_logs = spark.createDataFrame(parsed_logs)\n",
    "\n",
    "# add column of index\n",
    "indexed_logs = df_logs.withColumn(\"idx\", F.monotonically_increasing_id())\n",
    "windowSpec = W.orderBy(\"idx\")\n",
    "indexed_logs.withColumn(\"idx\", F.row_number().over(windowSpec))\n",
    "\n",
    "indexed_logs.printSchema()\n",
    "indexed_logs.show(3)"
   ]
  },
  {
   "cell_type": "code",
   "execution_count": 5,
   "metadata": {},
   "outputs": [
    {
     "name": "stdout",
     "output_type": "stream",
     "text": [
      "+--------------------+---+--------------------+\n",
      "|                 raw|idx|              tokens|\n",
      "+--------------------+---+--------------------+\n",
      "|147.214.18.128 - ...|  0|[147.214.18.128, ...|\n",
      "|147.214.18.128 - ...|  1|[147.214.18.128, ...|\n",
      "|localhost - - 201...|  2|[localhost, -, -,...|\n",
      "+--------------------+---+--------------------+\n",
      "only showing top 3 rows\n",
      "\n"
     ]
    }
   ],
   "source": [
    "# transformation from raw log line to tokens & show\n",
    "tokenizer = Tokenizer(inputCol=\"raw\", outputCol=\"tokens\")\n",
    "tokensData = tokenizer.transform(indexed_logs)\n",
    "tokensData.show(3)"
   ]
  },
  {
   "cell_type": "code",
   "execution_count": 6,
   "metadata": {},
   "outputs": [
    {
     "name": "stdout",
     "output_type": "stream",
     "text": [
      "+--------------------+---+--------------------+--------------------+\n",
      "|                 raw|idx|              tokens|                 vec|\n",
      "+--------------------+---+--------------------+--------------------+\n",
      "|147.214.18.128 - ...|  0|[147.214.18.128, ...|[0.02898259926587...|\n",
      "|147.214.18.128 - ...|  1|[147.214.18.128, ...|[0.02489781172739...|\n",
      "|localhost - - 201...|  2|[localhost, -, -,...|[0.31840608449419...|\n",
      "|147.214.18.128 - ...|  3|[147.214.18.128, ...|[0.00519319737537...|\n",
      "|147.214.18.128 - ...|  4|[147.214.18.128, ...|[0.01105898823071...|\n",
      "|147.214.18.128 - ...|  5|[147.214.18.128, ...|[0.02053154865279...|\n",
      "|147.214.18.128 - ...|  6|[147.214.18.128, ...|[0.06550943254328...|\n",
      "|147.214.18.128 - ...|  7|[147.214.18.128, ...|[0.11578032829086...|\n",
      "|147.214.18.128 - ...|  8|[147.214.18.128, ...|[0.09773356953842...|\n",
      "|147.214.18.128 - ...|  9|[147.214.18.128, ...|[-0.0156739802203...|\n",
      "|147.214.18.128 - ...| 10|[147.214.18.128, ...|[0.14237827078128...|\n",
      "|147.214.18.128 - ...| 11|[147.214.18.128, ...|[0.13650702747205...|\n",
      "|147.214.18.128 - ...| 12|[147.214.18.128, ...|[0.13980430509481...|\n",
      "|147.214.18.128 - ...| 13|[147.214.18.128, ...|[0.14174926001578...|\n",
      "|147.214.18.128 - ...| 14|[147.214.18.128, ...|[0.13859818989617...|\n",
      "|147.214.18.128 - ...| 15|[147.214.18.128, ...|[0.14014823062138...|\n",
      "|147.214.18.128 - ...| 16|[147.214.18.128, ...|[0.13971289552541...|\n",
      "|147.214.18.128 - ...| 17|[147.214.18.128, ...|[0.13947820019287...|\n",
      "|147.214.18.128 - ...| 18|[147.214.18.128, ...|[0.14061327138915...|\n",
      "|147.214.18.128 - ...| 19|[147.214.18.128, ...|[0.13544300252882...|\n",
      "+--------------------+---+--------------------+--------------------+\n",
      "only showing top 20 rows\n",
      "\n"
     ]
    }
   ],
   "source": [
    "# Learn a mapping from words to Vectors.\n",
    "vecModel = Word2Vec(vectorSize=16, minCount=0, inputCol=\"tokens\", outputCol=\"vec\").fit(tokensData)\n",
    "vecData = vecModel.transform(tokensData)\n",
    "vecData.show()"
   ]
  },
  {
   "cell_type": "code",
   "execution_count": 7,
   "metadata": {},
   "outputs": [
    {
     "name": "stdout",
     "output_type": "stream",
     "text": [
      "+--------------------+---+--------------------+--------------------+\n",
      "|                 raw|idx|              tokens|                 vec|\n",
      "+--------------------+---+--------------------+--------------------+\n",
      "|147.214.18.128 - ...|  0|[147.214.18.128, ...|[0.02898259926587...|\n",
      "|147.214.18.128 - ...|  1|[147.214.18.128, ...|[0.02489781172739...|\n",
      "|localhost - - 201...|  2|[localhost, -, -,...|[0.31840608449419...|\n",
      "|147.214.18.128 - ...|  3|[147.214.18.128, ...|[0.00519319737537...|\n",
      "|147.214.18.128 - ...|  4|[147.214.18.128, ...|[0.01105898823071...|\n",
      "+--------------------+---+--------------------+--------------------+\n",
      "only showing top 5 rows\n",
      "\n"
     ]
    }
   ],
   "source": [
    "# Build pipeline combining the previous transformations\n",
    "pipeline = Pipeline(stages=[tokenizer, vecModel]) \n",
    "\n",
    "# Fit the pipeline \n",
    "model = pipeline.fit(indexed_logs) \n",
    "\n",
    "# Make a prediction \n",
    "featured_logs = model.transform(indexed_logs)\n",
    "\n",
    "featured_logs.show(5)"
   ]
  },
  {
   "cell_type": "code",
   "execution_count": 8,
   "metadata": {},
   "outputs": [
    {
     "name": "stdout",
     "output_type": "stream",
     "text": [
      "+---+--------------------+\n",
      "|idx|                 vec|\n",
      "+---+--------------------+\n",
      "|  0|[0.02898259926587...|\n",
      "|  1|[0.02489781172739...|\n",
      "|  2|[0.31840608449419...|\n",
      "|  3|[0.00519319737537...|\n",
      "|  4|[0.01105898823071...|\n",
      "+---+--------------------+\n",
      "only showing top 5 rows\n",
      "\n"
     ]
    }
   ],
   "source": [
    "# drop unnecessary columns\n",
    "featured_logs = featured_logs.drop(\"raw\", \"tokens\")\n",
    "featured_logs.show(5)"
   ]
  },
  {
   "cell_type": "code",
   "execution_count": 9,
   "metadata": {},
   "outputs": [],
   "source": [
    "# randomize samples from logs to try different number of clusters\n",
    "# and calculate costs\n",
    "c = 30\n",
    "cost = np.zeros(c)\n",
    "for k in range(2, c):\n",
    "    kmeans = KMeans().setK(k).setFeaturesCol(\"vec\")\n",
    "    model = kmeans.fit(featured_logs.sample(False, 0.001))\n",
    "    cost[k] = model.computeCost(featured_logs)"
   ]
  },
  {
   "cell_type": "code",
   "execution_count": 10,
   "metadata": {},
   "outputs": [
    {
     "data": {
      "text/plain": [
       "<matplotlib.text.Text at 0x11303d2d0>"
      ]
     },
     "execution_count": 10,
     "metadata": {},
     "output_type": "execute_result"
    },
    {
     "data": {
      "image/png": "[encoded data removed]",
      "text/plain": [
       "<matplotlib.figure.Figure at 0x11303ded0>"
      ]
     },
     "metadata": {},
     "output_type": "display_data"
    }
   ],
   "source": [
    "# plot cost curve and pick the one at elbow\n",
    "fig, ax = plt.subplots(1, 1, figsize=(8, 6))\n",
    "ax.plot(range(2, c),cost[2: c])\n",
    "ax.set_xlabel('number of clusters')\n",
    "ax.set_ylabel('cost')"
   ]
  },
  {
   "cell_type": "code",
   "execution_count": 11,
   "metadata": {},
   "outputs": [
    {
     "name": "stdout",
     "output_type": "stream",
     "text": [
      "5723.80917191\n"
     ]
    }
   ],
   "source": [
    "# fit model with data logs\n",
    "k = 10\n",
    "kmeans = KMeans().setK(k).setFeaturesCol(\"vec\")\n",
    "model = kmeans.fit(featured_logs)\n",
    "cost = model.computeCost(featured_logs)\n",
    "print(cost)"
   ]
  },
  {
   "cell_type": "code",
   "execution_count": 12,
   "metadata": {},
   "outputs": [
    {
     "name": "stdout",
     "output_type": "stream",
     "text": [
      "+---+----------+\n",
      "|idx|prediction|\n",
      "+---+----------+\n",
      "|  0|         7|\n",
      "|  1|         5|\n",
      "|  2|         9|\n",
      "|  3|         7|\n",
      "|  4|         7|\n",
      "|  5|         5|\n",
      "|  6|         1|\n",
      "|  7|         1|\n",
      "|  8|         0|\n",
      "|  9|         7|\n",
      "| 10|         0|\n",
      "| 11|         0|\n",
      "| 12|         0|\n",
      "| 13|         0|\n",
      "| 14|         0|\n",
      "| 15|         0|\n",
      "| 16|         0|\n",
      "| 17|         0|\n",
      "| 18|         0|\n",
      "| 19|         0|\n",
      "+---+----------+\n",
      "only showing top 20 rows\n",
      "\n"
     ]
    }
   ],
   "source": [
    "# transform data frame with column of cluster prediction and show top 20 logs\n",
    "clustered_logs = model.transform(featured_logs).select('idx', 'prediction')\n",
    "clustered_logs.show()"
   ]
  },
  {
   "cell_type": "code",
   "execution_count": null,
   "metadata": {},
   "outputs": [],
   "source": []
  }
 ],
 "metadata": {
  "kernelspec": {
   "display_name": "Python 2",
   "language": "python",
   "name": "python2"
  },
  "language_info": {
   "codemirror_mode": {
    "name": "ipython",
    "version": 2
   },
   "file_extension": ".py",
   "mimetype": "text/x-python",
   "name": "python",
   "nbconvert_exporter": "python",
   "pygments_lexer": "ipython2",
   "version": "2.7.13"
  }
 },
 "nbformat": 4,
 "nbformat_minor": 2
}
